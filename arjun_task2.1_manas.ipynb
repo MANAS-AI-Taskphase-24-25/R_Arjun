{
 "cells": [
  {
   "cell_type": "code",
   "execution_count": 19,
   "id": "278f40ed-8769-42f4-951b-a11199553d4d",
   "metadata": {},
   "outputs": [],
   "source": [
    "import matplotlib.pyplot as plt\n",
    "import numpy as np\n",
    "import pandas as pd\n",
    "import math"
   ]
  },
  {
   "cell_type": "code",
   "execution_count": 20,
   "id": "1d817141-c273-45e7-9b51-71b9867ba56d",
   "metadata": {},
   "outputs": [
    {
     "data": {
      "text/plain": [
       "0    1\n",
       "1    1\n",
       "2    1\n",
       "3    0\n",
       "4    1\n",
       "Name: Class, dtype: int64"
      ]
     },
     "execution_count": 20,
     "metadata": {},
     "output_type": "execute_result"
    }
   ],
   "source": [
    "df = pd.read_csv(\"Gotem_Pumpkins.csv\")\n",
    "train = df.copy(deep = True)\n",
    "\n",
    "train = train.drop(train.columns[0], axis = 1)\n",
    "#Aspect ration is just Major Axis length divided by Minor Axis length and hence does not provide any new information; so we drop it.\n",
    "train = train.drop(columns = [\"Aspect_Ration\"])\n",
    "train[\"Class\"] = train[\"Class\"].apply(lambda x: 1 if x==\"Ürgüp Sivrisi\" else 0)\n",
    "\n",
    "#normalizing some features so all our values fall between 0 and 1\n",
    "std_features = ['Area','Perimeter','Major_Axis_Length','Minor_Axis_Length','Convex_Area','Equiv_Diameter']\n",
    "for i in std_features:\n",
    "   train[i] = (train[i] - train[i].min())/(train[i].max() - train[i].min())\n",
    "\n",
    "X_train = train.copy(deep = True)\n",
    "X_train = X_train.drop(columns = [\"Class\"])\n",
    "y_train = train[\"Class\"].copy(deep = True)\n",
    "\n",
    "y_train.head()"
   ]
  },
  {
   "cell_type": "code",
   "execution_count": 21,
   "id": "3ee23984-3e72-4ea7-8679-741b82edd2ed",
   "metadata": {},
   "outputs": [
    {
     "data": {
      "text/html": [
       "<div>\n",
       "<style scoped>\n",
       "    .dataframe tbody tr th:only-of-type {\n",
       "        vertical-align: middle;\n",
       "    }\n",
       "\n",
       "    .dataframe tbody tr th {\n",
       "        vertical-align: top;\n",
       "    }\n",
       "\n",
       "    .dataframe thead th {\n",
       "        text-align: right;\n",
       "    }\n",
       "</style>\n",
       "<table border=\"1\" class=\"dataframe\">\n",
       "  <thead>\n",
       "    <tr style=\"text-align: right;\">\n",
       "      <th></th>\n",
       "      <th>Area</th>\n",
       "      <th>Perimeter</th>\n",
       "      <th>Major_Axis_Length</th>\n",
       "      <th>Minor_Axis_Length</th>\n",
       "      <th>Convex_Area</th>\n",
       "      <th>Equiv_Diameter</th>\n",
       "      <th>Eccentricity</th>\n",
       "      <th>Solidity</th>\n",
       "      <th>Extent</th>\n",
       "      <th>Roundness</th>\n",
       "      <th>Compactness</th>\n",
       "    </tr>\n",
       "  </thead>\n",
       "  <tbody>\n",
       "    <tr>\n",
       "      <th>0</th>\n",
       "      <td>0.145556</td>\n",
       "      <td>0.115330</td>\n",
       "      <td>0.144600</td>\n",
       "      <td>0.434095</td>\n",
       "      <td>0.145624</td>\n",
       "      <td>0.181331</td>\n",
       "      <td>0.8125</td>\n",
       "      <td>0.9921</td>\n",
       "      <td>0.7301</td>\n",
       "      <td>0.8571</td>\n",
       "      <td>0.7623</td>\n",
       "    </tr>\n",
       "    <tr>\n",
       "      <th>1</th>\n",
       "      <td>0.297777</td>\n",
       "      <td>0.286532</td>\n",
       "      <td>0.299781</td>\n",
       "      <td>0.528611</td>\n",
       "      <td>0.299258</td>\n",
       "      <td>0.352803</td>\n",
       "      <td>0.8360</td>\n",
       "      <td>0.9909</td>\n",
       "      <td>0.7132</td>\n",
       "      <td>0.8342</td>\n",
       "      <td>0.7397</td>\n",
       "    </tr>\n",
       "    <tr>\n",
       "      <th>2</th>\n",
       "      <td>0.298614</td>\n",
       "      <td>0.322175</td>\n",
       "      <td>0.386747</td>\n",
       "      <td>0.438886</td>\n",
       "      <td>0.298707</td>\n",
       "      <td>0.353704</td>\n",
       "      <td>0.8742</td>\n",
       "      <td>0.9925</td>\n",
       "      <td>0.7079</td>\n",
       "      <td>0.8008</td>\n",
       "      <td>0.6949</td>\n",
       "    </tr>\n",
       "    <tr>\n",
       "      <th>3</th>\n",
       "      <td>0.416324</td>\n",
       "      <td>0.443632</td>\n",
       "      <td>0.487234</td>\n",
       "      <td>0.519257</td>\n",
       "      <td>0.421149</td>\n",
       "      <td>0.476438</td>\n",
       "      <td>0.8781</td>\n",
       "      <td>0.9880</td>\n",
       "      <td>0.7495</td>\n",
       "      <td>0.7909</td>\n",
       "      <td>0.6905</td>\n",
       "    </tr>\n",
       "    <tr>\n",
       "      <th>4</th>\n",
       "      <td>0.409459</td>\n",
       "      <td>0.395315</td>\n",
       "      <td>0.357026</td>\n",
       "      <td>0.651413</td>\n",
       "      <td>0.412636</td>\n",
       "      <td>0.469483</td>\n",
       "      <td>0.8232</td>\n",
       "      <td>0.9896</td>\n",
       "      <td>0.7093</td>\n",
       "      <td>0.8283</td>\n",
       "      <td>0.7523</td>\n",
       "    </tr>\n",
       "  </tbody>\n",
       "</table>\n",
       "</div>"
      ],
      "text/plain": [
       "       Area  Perimeter  Major_Axis_Length  Minor_Axis_Length  Convex_Area  \\\n",
       "0  0.145556   0.115330           0.144600           0.434095     0.145624   \n",
       "1  0.297777   0.286532           0.299781           0.528611     0.299258   \n",
       "2  0.298614   0.322175           0.386747           0.438886     0.298707   \n",
       "3  0.416324   0.443632           0.487234           0.519257     0.421149   \n",
       "4  0.409459   0.395315           0.357026           0.651413     0.412636   \n",
       "\n",
       "   Equiv_Diameter  Eccentricity  Solidity  Extent  Roundness  Compactness  \n",
       "0        0.181331        0.8125    0.9921  0.7301     0.8571       0.7623  \n",
       "1        0.352803        0.8360    0.9909  0.7132     0.8342       0.7397  \n",
       "2        0.353704        0.8742    0.9925  0.7079     0.8008       0.6949  \n",
       "3        0.476438        0.8781    0.9880  0.7495     0.7909       0.6905  \n",
       "4        0.469483        0.8232    0.9896  0.7093     0.8283       0.7523  "
      ]
     },
     "execution_count": 21,
     "metadata": {},
     "output_type": "execute_result"
    }
   ],
   "source": [
    "#Cleaning up data in test file as well\n",
    "tdf = pd.read_csv(\"Freyja_Pumpkins.csv\")\n",
    "test = tdf.copy(deep = True)\n",
    "\n",
    "test = test.drop(test.columns[0], axis = 1)\n",
    "test = test.drop(columns = [\"Aspect_Ration\"])\n",
    "test[\"Class\"] = test[\"Class\"].apply(lambda x: 1 if x==\"Ürgüp Sivrisi\" else 0)\n",
    "\n",
    "std_features = ['Area','Perimeter','Major_Axis_Length','Minor_Axis_Length','Convex_Area','Equiv_Diameter']\n",
    "for i in std_features:\n",
    "   test[i] = (test[i] - test[i].min())/(test[i].max() - test[i].min())\n",
    "\n",
    "X_test = test.copy(deep = True)\n",
    "X_test = X_test.drop(columns = [\"Class\"])\n",
    "y_test = test[\"Class\"].copy(deep = True)\n",
    "\n",
    "X_test.head()"
   ]
  },
  {
   "cell_type": "code",
   "execution_count": 22,
   "id": "03ef299b-528d-462f-882b-4891c3817abd",
   "metadata": {},
   "outputs": [],
   "source": [
    "def sigmoid(z):\n",
    "\n",
    "    g = 1/(1+np.exp(-z))\n",
    "   \n",
    "    return g"
   ]
  },
  {
   "cell_type": "code",
   "execution_count": 31,
   "id": "6d408802-2cd7-4542-81b9-5724cdbcb692",
   "metadata": {},
   "outputs": [
    {
     "data": {
      "text/plain": [
       "0.6931471805599112"
      ]
     },
     "execution_count": 31,
     "metadata": {},
     "output_type": "execute_result"
    }
   ],
   "source": [
    "w = np.zeros(X_train.shape[1])\n",
    "b = 0\n",
    "\n",
    "#cost based on log piecewise function\n",
    "\n",
    "def cost(x,y,weight,bias): \n",
    "    cost_sum = 0\n",
    "    m = x.shape[0]\n",
    "    for i in range(m):\n",
    "        f_wb_i = sigmoid(np.dot(weight,x.iloc[i]) + bias)\n",
    "        cost = -y[i]*math.log(f_wb_i) - (1-y[i])*math.log(1-f_wb_i)\n",
    "        cost_sum += cost\n",
    "\n",
    "    return cost_sum/m\n",
    "\n",
    "cost(X_train,y_train,w,b)"
   ]
  },
  {
   "cell_type": "code",
   "execution_count": 32,
   "id": "2c5b6f64-17a4-4d43-aff0-3da35164dcb2",
   "metadata": {},
   "outputs": [],
   "source": [
    "def compute_gradient(x,y,w,b): #calculate partial derivative terms in gradient descent algorithm\n",
    "    dj_dw_i = np.zeros(x.shape[1])\n",
    "    dj_dw = np.zeros(x.shape[1])\n",
    "    dj_db_i = 0\n",
    "    dj_db = 0\n",
    "    m = x.shape[0]\n",
    "    for i in range(m):\n",
    "        dj_dw_i = (sigmoid(np.dot(w,x.iloc[i]) + b) - y.iloc[i])*x.iloc[i]\n",
    "        dj_dw += dj_dw_i\n",
    "        dj_db_i = sigmoid(np.dot(w,x.iloc[i]) + b) - y.iloc[i]\n",
    "        dj_db += dj_db_i\n",
    "    dj_dw = dj_dw/m\n",
    "    dj_db = dj_db/m\n",
    "\n",
    "    return dj_dw,dj_db"
   ]
  },
  {
   "cell_type": "code",
   "execution_count": 60,
   "id": "b35c8c69-13be-4bab-a3a8-1b79a2b7eb62",
   "metadata": {},
   "outputs": [],
   "source": [
    "def gradient_descent(x,y,w,b,alpha,iterations):\n",
    "    init_cost = cost(x,y,np.zeros(x.shape[1]),0)\n",
    "    J_hist = [init_cost]\n",
    "    for i in range(iterations):\n",
    "        dj_dw,dj_db = compute_gradient(x,y,w,b)\n",
    "        w = w-alpha*dj_dw\n",
    "        b = b-alpha*dj_db\n",
    "        J_hist.append(cost(x,y,w,b))\n",
    "            \n",
    "\n",
    "    return w,b,J_hist\n",
    "\n",
    "iterations = 1000\n",
    "w_final,b_final,J_hist = gradient_descent(X_train,y_train,w,b,1.6,iterations) #learning rate taken through trial and error"
   ]
  },
  {
   "cell_type": "code",
   "execution_count": 63,
   "id": "9c6b97b3-2631-4c92-92f3-2739ee99a3e2",
   "metadata": {},
   "outputs": [
    {
     "name": "stdout",
     "output_type": "stream",
     "text": [
      "0.7091802392450598\n"
     ]
    }
   ],
   "source": [
    "print(b_final)"
   ]
  },
  {
   "cell_type": "code",
   "execution_count": 77,
   "id": "4c9e67d0-83b7-4309-a3a0-af33f5f07238",
   "metadata": {},
   "outputs": [
    {
     "name": "stdout",
     "output_type": "stream",
     "text": [
      "Accuracy % is : 86.4\n"
     ]
    }
   ],
   "source": [
    "m = X_test.shape[0]\n",
    "pred_list = []\n",
    "predsum = 0\n",
    "for i in range(m):\n",
    "    pred_i = sigmoid(np.dot(w_final,X_test.iloc[i]) + b_final)\n",
    "    if pred_i>=0.5:\n",
    "        pred_list.append(1)\n",
    "    else:\n",
    "        pred_list.append(0)\n",
    "    if pred_list[i] == y_test[i]:\n",
    "        predsum+=1\n",
    "\n",
    "print(\"Accuracy % is :\",100*predsum/m)\n"
   ]
  },
  {
   "cell_type": "code",
   "execution_count": null,
   "id": "40b8c5a2-f300-4142-8fe4-8285705c449f",
   "metadata": {},
   "outputs": [],
   "source": []
  }
 ],
 "metadata": {
  "kernelspec": {
   "display_name": "Python 3 (ipykernel)",
   "language": "python",
   "name": "python3"
  },
  "language_info": {
   "codemirror_mode": {
    "name": "ipython",
    "version": 3
   },
   "file_extension": ".py",
   "mimetype": "text/x-python",
   "name": "python",
   "nbconvert_exporter": "python",
   "pygments_lexer": "ipython3",
   "version": "3.12.7"
  }
 },
 "nbformat": 4,
 "nbformat_minor": 5
}
